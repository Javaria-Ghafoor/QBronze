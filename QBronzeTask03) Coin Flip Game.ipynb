{
 "cells": [
  {
   "cell_type": "markdown",
   "metadata": {},
   "source": [
    "<table width=\"100%\"> <tr>\n",
    "        <td  style=\"background-color:#ffffff;\">\n",
    "            <a href=\"https://qsoftware.lu.lv/index.php/qworld/\" target=\"_blank\"><img src=\"..\\images\\qworld.jpg\" width=\"35%\" align=\"left\"> </a></td>\n",
    "        <td style=\"background-color:#ffffff;vertical-align:bottom;text-align:right;\">\n",
    "            prepared by Abuzer Yakaryilmaz (<a href=\"http://qworld.lu.lv/index.php/qlatvia/\" target=\"_blank\">QLatvia</a>)\n",
    "        </td>        \n",
    "</tr></table>"
   ]
  },
  {
   "cell_type": "markdown",
   "metadata": {},
   "source": [
    "<table width=\"100%\"><tr><td style=\"color:#bbbbbb;background-color:#ffffff;font-size:11px;font-style:italic;text-align:right;\">This cell contains some macros. If there is a problem with displaying mathematical formulas, please run this cell to load these macros. </td></tr></table>\n",
    "$ \\newcommand{\\bra}[1]{\\langle #1|} $\n",
    "$ \\newcommand{\\ket}[1]{|#1\\rangle} $\n",
    "$ \\newcommand{\\braket}[2]{\\langle #1|#2\\rangle} $\n",
    "$ \\newcommand{\\dot}[2]{ #1 \\cdot #2} $\n",
    "$ \\newcommand{\\biginner}[2]{\\left\\langle #1,#2\\right\\rangle} $\n",
    "$ \\newcommand{\\mymatrix}[2]{\\left( \\begin{array}{#1} #2\\end{array} \\right)} $\n",
    "$ \\newcommand{\\myvector}[1]{\\mymatrix{c}{#1}} $\n",
    "$ \\newcommand{\\myrvector}[1]{\\mymatrix{r}{#1}} $\n",
    "$ \\newcommand{\\mypar}[1]{\\left( #1 \\right)} $\n",
    "$ \\newcommand{\\mybigpar}[1]{ \\Big( #1 \\Big)} $\n",
    "$ \\newcommand{\\sqrttwo}{\\frac{1}{\\sqrt{2}}} $\n",
    "$ \\newcommand{\\dsqrttwo}{\\dfrac{1}{\\sqrt{2}}} $\n",
    "$ \\newcommand{\\onehalf}{\\frac{1}{2}} $\n",
    "$ \\newcommand{\\donehalf}{\\dfrac{1}{2}} $\n",
    "$ \\newcommand{\\hadamard}{ \\mymatrix{rr}{ \\sqrttwo & \\sqrttwo \\\\ \\sqrttwo & -\\sqrttwo }} $\n",
    "$ \\newcommand{\\vzero}{\\myvector{1\\\\0}} $\n",
    "$ \\newcommand{\\vone}{\\myvector{0\\\\1}} $\n",
    "$ \\newcommand{\\vhadamardzero}{\\myvector{ \\sqrttwo \\\\  \\sqrttwo } } $\n",
    "$ \\newcommand{\\vhadamardone}{ \\myrvector{ \\sqrttwo \\\\ -\\sqrttwo } } $\n",
    "$ \\newcommand{\\myarray}[2]{ \\begin{array}{#1}#2\\end{array}} $\n",
    "$ \\newcommand{\\X}{ \\mymatrix{cc}{0 & 1 \\\\ 1 & 0}  } $\n",
    "$ \\newcommand{\\Z}{ \\mymatrix{rr}{1 & 0 \\\\ 0 & -1}  } $\n",
    "$ \\newcommand{\\Htwo}{ \\mymatrix{rrrr}{ \\frac{1}{2} & \\frac{1}{2} & \\frac{1}{2} & \\frac{1}{2} \\\\ \\frac{1}{2} & -\\frac{1}{2} & \\frac{1}{2} & -\\frac{1}{2} \\\\ \\frac{1}{2} & \\frac{1}{2} & -\\frac{1}{2} & -\\frac{1}{2} \\\\ \\frac{1}{2} & -\\frac{1}{2} & -\\frac{1}{2} & \\frac{1}{2} } } $\n",
    "$ \\newcommand{\\CNOT}{ \\mymatrix{cccc}{1 & 0 & 0 & 0 \\\\ 0 & 1 & 0 & 0 \\\\ 0 & 0 & 0 & 1 \\\\ 0 & 0 & 1 & 0} } $\n",
    "$ \\newcommand{\\norm}[1]{ \\left\\lVert #1 \\right\\rVert } $"
   ]
  },
  {
   "cell_type": "markdown",
   "metadata": {},
   "source": [
    "<h2> A Game with two biased coins </h2>\n",
    "\n",
    "[Watch Lecture](https://youtu.be/k0OJvv7AAgU)\n",
    "\n",
    "Our friend Asja has one euro and one cent. \n",
    "\n",
    "Both coins are biased, and the probabilities of getting heads and tails are as follows:\n",
    "<ul>\n",
    "    <li> one euro: head with probability $ 0.6 $ and tail with probability $ 0.4 $. </li>\n",
    "    <li> one cent: head with probability $ 0.3 $ and tail with probability $ 0.7 $. </li>\n",
    "</ul>\n",
    "\n",
    "Asja flips her coins based on the following <b>protocol</b>: \n",
    "<ol> \n",
    "    <li> whenever she gets a head, she flips one euro; </li>\n",
    "    <li> whenever she gets a tail, she flips one cent; and </li>\n",
    "    <li> she starts with flipping one euro (we assume that she got head from nowhere). </li>\n",
    "</ol>\n",
    "\n",
    "By using a single bit, we summarize all possible transitions of this game as follows:\n",
    "\n",
    "$\n",
    "GameCoins = \\begin{array}{c|cc} & \\mathbf{Head} & \\mathbf{Tail} \\\\ \\hline \\mathbf{Head} & 0.6 & 0.3\\\\  \\mathbf{Tail} & 0.4 & 0.7  \\end{array} = \\begin{array}{c|cc} & \\mathbf{0} & \\mathbf{1} \\\\ \\hline \\mathbf{0} & 0.6 & 0.3 \\\\  \\mathbf{1} & 0.4 & 0.7  \\end{array}\n",
    "$"
   ]
  },
  {
   "cell_type": "markdown",
   "metadata": {},
   "source": [
    "<h3>Task 03.1: Convince yourself </h3>\n",
    "\n",
    "Please convince yourself about the correctness of transitions given in the table.\n",
    "\n",
    "<i> Remark that there is no difference between getting head from one euro or getting head from one cent.\n",
    "    \n",
    "Therefore, one bit is enough to represent all transitions.\n",
    "</i>"
   ]
  },
  {
   "cell_type": "markdown",
   "metadata": {},
   "source": [
    "<h3> Tracing Asja's three coin tosses </h3>\n",
    "\n",
    "Suppose that Asja <b>secretly</b> tosses her coins based on the defined protocol.\n",
    "\n",
    "By using python, we can calculate the probabilities of Asja getting head and tail after three coin tosses.\n",
    "\n",
    "<i><b>Remark:</b> In the tasks in previous notebook [Coin Flipping](B06_Coin_Flip.ipynb), the ideal ratio is easy to calculate. Besides, we do our experiments and then compare our results with the ideal ratio. \n",
    "\n",
    "Here we will calculate the exact probabilities (the ideal ratio) by using python. (We will not do the experiment.)\n",
    "</i>\n",
    "\n",
    "We present our solution step by step."
   ]
  },
  {
   "cell_type": "code",
   "execution_count": 1,
   "metadata": {},
   "outputs": [],
   "source": [
    "#\n",
    "# OUR SOLUTION\n",
    "#\n",
    "\n",
    "# initial case\n",
    "# We assume that the probability of having head is 1 at the beginning,\n",
    "#    because Asja will start with one euro.\n",
    "prob_head = 1\n",
    "prob_tail = 0\n",
    "\n",
    "\n",
    "#\n",
    "# first coin-flip\n",
    "#\n",
    "\n",
    "# the new probability of head is calculated by using the first row \n",
    "new_prob_head = prob_head * 0.6 + prob_tail * 0.3\n",
    "\n",
    "# the new probability of tail is calculated by using the second row \n",
    "new_prob_tail = prob_head * 0.4 + prob_tail * 0.7\n",
    "\n",
    "# update the probabilities\n",
    "prob_head = new_prob_head\n",
    "prob_tail = new_prob_tail\n",
    "\n",
    "#\n",
    "# second coin-flip\n",
    "#\n",
    "# we do the same calculations\n",
    "\n",
    "new_prob_head = prob_head * 0.6 + prob_tail * 0.3\n",
    "new_prob_tail = prob_head * 0.4 + prob_tail * 0.7\n",
    "\n",
    "prob_head = new_prob_head\n",
    "prob_tail = new_prob_tail\n",
    "\n",
    "#\n",
    "# third coin-flip\n",
    "#\n",
    "# we do the same calculations\n",
    "\n",
    "new_prob_head = prob_head * 0.6 + prob_tail * 0.3\n",
    "new_prob_tail = prob_head * 0.4 + prob_tail * 0.7\n",
    "\n",
    "prob_head = new_prob_head\n",
    "prob_tail = new_prob_tail\n",
    "\n",
    "# print prob_head and prob_tail\n",
    "print(\"the probability of getting head after 3 coin tosses is\",round(prob_head,6))\n",
    "print(\"the probability of getting tail after 3 coin tosses is\",round(prob_tail,6))\n"
   ]
  },
  {
   "cell_type": "markdown",
   "metadata": {},
   "source": [
    "<h3> Task 03.2: Tracing ten biased coin tosses </h3>\n",
    "\n",
    "By using python, calculate the probabilities of Asja getting head and tail after 10 coin tosses.\n",
    "\n",
    "$\n",
    "GameCoins = \\begin{array}{c|cc} & \\mathbf{Head} & \\mathbf{Tail} \\\\ \\hline \\mathbf{Head} & 0.6 & 0.3\\\\  \\mathbf{Tail} & 0.4 & 0.7  \\end{array} = \\begin{array}{c|cc} & \\mathbf{0} & \\mathbf{1} \\\\ \\hline \\mathbf{0} & 0.6 & 0.3 \\\\  \\mathbf{1} & 0.4 & 0.7  \\end{array}\n",
    "$\n",
    "\n",
    "Please use a loop in your solution."
   ]
  },
  {
   "cell_type": "code",
   "execution_count": 2,
   "metadata": {},
   "outputs": [],
   "source": [
    "prob_H = 1\n",
    "prob_T = 0\n",
    "\n",
    "no_of_tosses = 10\n",
    "\n",
    "for i in range(no_of_tosses):\n",
    "    H = prob_H\n",
    "    T = prob_T\n",
    "    prob_H = H * 0.6 + T * 0.3\n",
    "    prob_T = H * 0.4 + T * 0.7\n",
    "\n",
    "print(\"the probability of getting head after \",no_of_tosses,\" coin tosses is\",round(prob_H,6))\n",
    "print(\"the probability of getting tail after \",no_of_tosses,\" coin tosses is\",round(prob_T,6))"
   ]
  },
  {
   "cell_type": "markdown",
   "metadata": {},
   "source": [
    "<a href=\"B09_Coin_Flip_Game_Solutions.ipynb#task2\">click for our solution</a>"
   ]
  },
  {
   "cell_type": "markdown",
   "metadata": {},
   "source": [
    "<h3> Task 03.3</h3>\n",
    "\n",
    "Repeat Task 03.2 for 20, 30, and 50 coin tosses."
   ]
  },
  {
   "cell_type": "code",
   "execution_count": 3,
   "metadata": {},
   "outputs": [
    {
     "name": "stdout",
     "output_type": "stream",
     "text": [
      "the probability of getting head after  20  coin tosses is 0.428571\n",
      "the probability of getting tail after  20  coin tosses is 0.571429\n",
      "the probability of getting head after  30  coin tosses is 0.428571\n",
      "the probability of getting tail after  30  coin tosses is 0.571429\n",
      "the probability of getting head after  50  coin tosses is 0.428571\n",
      "the probability of getting tail after  50  coin tosses is 0.571429\n"
     ]
    }
   ],
   "source": [
    "prob_H = [1, 1, 1]\n",
    "prob_T = [0, 0, 0]\n",
    "\n",
    "no_of_tosses = [20, 30, 50]\n",
    "\n",
    "for i in range(len(no_of_tosses)):\n",
    "    for j in range(no_of_tosses[i]):\n",
    "        H = prob_H[i]\n",
    "        T = prob_T[i]\n",
    "        prob_H[i] = H * 0.6 + T * 0.3\n",
    "        prob_T[i] = H * 0.4 + T * 0.7\n",
    "    print(\"the probability of getting head after \",no_of_tosses[i],\" coin tosses is\",round(prob_H[i],6))\n",
    "    print(\"the probability of getting tail after \",no_of_tosses[i],\" coin tosses is\",round(prob_T[i],6))"
   ]
  },
  {
   "cell_type": "markdown",
   "metadata": {},
   "source": [
    "<a href=\"B09_Coin_Flip_Game_Solutions.ipynb#task3\">click for our solution</a>"
   ]
  },
  {
   "cell_type": "markdown",
   "metadata": {},
   "source": [
    "<h3> Task 03.4</h3>\n",
    "\n",
    "Repeat Task 03.2 for 10, 20, and 50 coin tosses by picking different initial conditions, e.g., \n",
    "    \n",
    "    prob_head = prob_tail = 1/2\n",
    "or\n",
    "    \n",
    "    prob_head = 0 \n",
    "    prob_tail = 1"
   ]
  },
  {
   "cell_type": "code",
   "execution_count": 4,
   "metadata": {},
   "outputs": [
    {
     "name": "stdout",
     "output_type": "stream",
     "text": [
      "the initial probability of getting a head is 0.5\n",
      "the initial probability of getting a tail is 0.5\n",
      "the probability of getting head after  10  coin tosses is 0.428572\n",
      "the probability of getting tail after  10  coin tosses is 0.571428\n",
      "the initial probability of getting a head is 0\n",
      "the initial probability of getting a tail is 1\n",
      "the probability of getting head after  20  coin tosses is 0.428571\n",
      "the probability of getting tail after  20  coin tosses is 0.571429\n",
      "the initial probability of getting a head is 0.25\n",
      "the initial probability of getting a tail is 0.75\n",
      "the probability of getting head after  50  coin tosses is 0.428571\n",
      "the probability of getting tail after  50  coin tosses is 0.571429\n"
     ]
    }
   ],
   "source": [
    "prob_H = [1/2, 0, 1/4]\n",
    "prob_T = [1/2, 1, 3/4]\n",
    "\n",
    "no_of_tosses = [10, 20, 50]\n",
    "\n",
    "for i in range(len(no_of_tosses)):\n",
    "    print(\"the initial probability of getting a head is\",round(prob_H[i],6))\n",
    "    print(\"the initial probability of getting a tail is\",round(prob_T[i],6))\n",
    "    for j in range(no_of_tosses[i]):\n",
    "        H = prob_H[i]\n",
    "        T = prob_T[i]\n",
    "        prob_H[i] = H * 0.6 + T * 0.3\n",
    "        prob_T[i] = H * 0.4 + T * 0.7\n",
    "    print(\"the probability of getting head after \",no_of_tosses[i],\" coin tosses is\",round(prob_H[i],6))\n",
    "    print(\"the probability of getting tail after \",no_of_tosses[i],\" coin tosses is\",round(prob_T[i],6))"
   ]
  },
  {
   "cell_type": "markdown",
   "metadata": {},
   "source": [
    "<a href=\"B09_Coin_Flip_Game_Solutions.ipynb#task4\">click for our solution</a>"
   ]
  },
  {
   "cell_type": "markdown",
   "metadata": {},
   "source": [
    "<hr>"
   ]
  },
  {
   "cell_type": "markdown",
   "metadata": {},
   "source": [
    "<h3> Arbitrary transitions for GameCoins [extra]</h3>\n",
    "\n",
    "By changing the bias of each Asja's coin, we can define arbitrary GameCoins.\n",
    "\n",
    "If $ a $ is the probability of getting head for one euro and $ b $ is the probability of getting head for one cent, then we have the following transitions:\n",
    "\n",
    "$\n",
    "GameCoins(a,b) = \\begin{array}{c|cc} & \\mathbf{Head} & \\mathbf{Tail} \\\\ \\hline \\mathbf{Head} & a & b\\\\  \\mathbf{Tail} & 1-a & 1-b  \\end{array} = \\begin{array}{c|cc} & \\mathbf{0} & \\mathbf{1} \\\\ \\hline \\mathbf{0} & a & b \\\\  \\mathbf{1} & 1-a & 1-b  \\end{array}\n",
    "$"
   ]
  },
  {
   "cell_type": "markdown",
   "metadata": {},
   "source": [
    "<h3> Task 03.5 </h3>\n",
    "\n",
    "Observe that if $ a=1 $ and $ b = 0 $, then it is Identity operator, which does not change the initial state.\n",
    "\n",
    "If $ a=0 $ and $ b=1 $, then it is NOT operator. NOT operator swaps the probabilities of head and tail. If the initial probabilities are not $ 0.5 $ and $ 0.5 $, then the system cannot converge."
   ]
  },
  {
   "cell_type": "code",
   "execution_count": 5,
   "metadata": {},
   "outputs": [
    {
     "name": "stdout",
     "output_type": "stream",
     "text": [
      "a = 1, b = 0:\n",
      "the probability of getting head after 1 coin toss(es) is 1\n",
      "the probability of getting tail after 1 coin toss(es) is 0\n",
      "a = 0, b = 1:\n",
      "the probability of getting head after 1 coin toss(es) is 0\n",
      "the probability of getting tail after 1 coin toss(es) is 1\n",
      "a = 0, b = 1, initial probability of heads = of tails = 0.5:\n",
      "the probability of getting head after 1 coin toss(es) is 0.5\n",
      "the probability of getting tail after 1 coin toss(es) is 0.5\n"
     ]
    }
   ],
   "source": [
    "def GameCoins(a, b, prob_H=1, prob_T=0, toss_no=1, no_of_tosses=1):\n",
    "    H = prob_H\n",
    "    T = prob_T\n",
    "    prob_H = H * a + T * b\n",
    "    prob_T = H * (1-a) + T * (1-b)\n",
    "    if toss_no==no_of_tosses:\n",
    "        print(\"the probability of getting head after\", no_of_tosses ,\"coin toss(es) is\",round(prob_H,6))\n",
    "        print(\"the probability of getting tail after\", no_of_tosses ,\"coin toss(es) is\",round(prob_T,6))\n",
    "\n",
    "print(\"a = 1, b = 0:\")\n",
    "GameCoins(1, 0)\n",
    "print(\"a = 0, b = 1:\")\n",
    "GameCoins(0, 1)\n",
    "print(\"a = 0, b = 1, initial probability of heads = of tails = 0.5:\")\n",
    "GameCoins(0, 1, 0.5, 0.5)"
   ]
  },
  {
   "cell_type": "markdown",
   "metadata": {},
   "source": [
    "<h3> Task 03.6</h3>\n",
    "\n",
    "Randomly pick the values of $ a $ and $ b $, and then implement Tasks 03.3 and 03.4 for $ GameCoins(a,b) $."
   ]
  },
  {
   "cell_type": "code",
   "execution_count": 6,
   "metadata": {},
   "outputs": [
    {
     "name": "stdout",
     "output_type": "stream",
     "text": [
      "Repeating task 03.3, a = 0.6, b = 0.4:\n",
      "the probability of getting head after 20 coin toss(es) is 0.6\n",
      "the probability of getting tail after 20 coin toss(es) is 0.4\n",
      "the probability of getting head after 30 coin toss(es) is 0.6\n",
      "the probability of getting tail after 30 coin toss(es) is 0.4\n",
      "the probability of getting head after 50 coin toss(es) is 0.6\n",
      "the probability of getting tail after 50 coin toss(es) is 0.4\n",
      "Repeating task 03.4, a = 0.3, b = 0.7:\n",
      "the probability of getting head after 10 coin toss(es) is 0.3\n",
      "the probability of getting tail after 10 coin toss(es) is 0.7\n",
      "the probability of getting head after 20 coin toss(es) is 0.3\n",
      "the probability of getting tail after 20 coin toss(es) is 0.7\n",
      "the probability of getting head after 50 coin toss(es) is 0.3\n",
      "the probability of getting tail after 50 coin toss(es) is 0.7\n"
     ]
    }
   ],
   "source": [
    "print(\"Repeating task 03.3, a = 0.6, b = 0.4:\")\n",
    "\n",
    "prob_H = [1, 1, 1]\n",
    "prob_T = [0, 0, 0]\n",
    "\n",
    "no_of_tosses = [20, 30, 50]\n",
    "\n",
    "for i in range(len(no_of_tosses)):\n",
    "    for j in range(no_of_tosses[i]):\n",
    "        GameCoins(0.6, 0.4, toss_no=j+1, no_of_tosses=no_of_tosses[i])\n",
    "    #print(\"the probability of getting head after \",no_of_tosses[i],\" coin tosses is\",round(prob_H[i],6))\n",
    "    #print(\"the probability of getting tail after \",no_of_tosses[i],\" coin tosses is\",round(prob_T[i],6))\n",
    "\n",
    "print(\"Repeating task 03.4, a = 0.3, b = 0.7:\")\n",
    "\n",
    "prob_H = [1/2, 0, 1/4]\n",
    "prob_T = [1/2, 1, 3/4]\n",
    "\n",
    "no_of_tosses = [10, 20, 50]\n",
    "\n",
    "for i in range(len(no_of_tosses)):\n",
    "    for j in range(no_of_tosses[i]):\n",
    "        GameCoins(0.3, 0.7, toss_no=j+1, no_of_tosses=no_of_tosses[i])\n",
    "    #print(\"the probability of getting head after \",no_of_tosses[i],\" coin tosses is\",round(prob_H[i],6))\n",
    "    #print(\"the probability of getting tail after \",no_of_tosses[i],\" coin tosses is\",round(prob_T[i],6))"
   ]
  },
  {
   "cell_type": "markdown",
   "metadata": {},
   "source": [
    "<h3> Task 03.7</h3>\n",
    "\n",
    "10 times repeat Task 6 and observe whether the system converges in each time."
   ]
  },
  {
   "cell_type": "code",
   "execution_count": 7,
   "metadata": {
    "scrolled": false
   },
   "outputs": [
    {
     "name": "stdout",
     "output_type": "stream",
     "text": [
      "Repeating task 03.3, round = 1 , a = 1 , b = 0 \n",
      "the probability of getting head after 20 coin toss(es) is 1\n",
      "the probability of getting tail after 20 coin toss(es) is 0\n",
      "the probability of getting head after 30 coin toss(es) is 1\n",
      "the probability of getting tail after 30 coin toss(es) is 0\n",
      "the probability of getting head after 50 coin toss(es) is 1\n",
      "the probability of getting tail after 50 coin toss(es) is 0\n",
      "Repeating task 03.4, round = 1 , a = 1 , b = 0 \n",
      "the probability of getting head after 10 coin toss(es) is 1\n",
      "the probability of getting tail after 10 coin toss(es) is 0\n",
      "the probability of getting head after 20 coin toss(es) is 1\n",
      "the probability of getting tail after 20 coin toss(es) is 0\n",
      "the probability of getting head after 50 coin toss(es) is 1\n",
      "the probability of getting tail after 50 coin toss(es) is 0\n",
      "Repeating task 03.3, round = 2 , a = 0.9 , b = 0.1 \n",
      "the probability of getting head after 20 coin toss(es) is 0.9\n",
      "the probability of getting tail after 20 coin toss(es) is 0.1\n",
      "the probability of getting head after 30 coin toss(es) is 0.9\n",
      "the probability of getting tail after 30 coin toss(es) is 0.1\n",
      "the probability of getting head after 50 coin toss(es) is 0.9\n",
      "the probability of getting tail after 50 coin toss(es) is 0.1\n",
      "Repeating task 03.4, round = 2 , a = 0.9 , b = 0.1 \n",
      "the probability of getting head after 10 coin toss(es) is 0.9\n",
      "the probability of getting tail after 10 coin toss(es) is 0.1\n",
      "the probability of getting head after 20 coin toss(es) is 0.9\n",
      "the probability of getting tail after 20 coin toss(es) is 0.1\n",
      "the probability of getting head after 50 coin toss(es) is 0.9\n",
      "the probability of getting tail after 50 coin toss(es) is 0.1\n",
      "Repeating task 03.3, round = 3 , a = 0.8 , b = 0.2 \n",
      "the probability of getting head after 20 coin toss(es) is 0.8\n",
      "the probability of getting tail after 20 coin toss(es) is 0.2\n",
      "the probability of getting head after 30 coin toss(es) is 0.8\n",
      "the probability of getting tail after 30 coin toss(es) is 0.2\n",
      "the probability of getting head after 50 coin toss(es) is 0.8\n",
      "the probability of getting tail after 50 coin toss(es) is 0.2\n",
      "Repeating task 03.4, round = 3 , a = 0.8 , b = 0.2 \n",
      "the probability of getting head after 10 coin toss(es) is 0.8\n",
      "the probability of getting tail after 10 coin toss(es) is 0.2\n",
      "the probability of getting head after 20 coin toss(es) is 0.8\n",
      "the probability of getting tail after 20 coin toss(es) is 0.2\n",
      "the probability of getting head after 50 coin toss(es) is 0.8\n",
      "the probability of getting tail after 50 coin toss(es) is 0.2\n",
      "Repeating task 03.3, round = 4 , a = 0.7 , b = 0.3 \n",
      "the probability of getting head after 20 coin toss(es) is 0.7\n",
      "the probability of getting tail after 20 coin toss(es) is 0.3\n",
      "the probability of getting head after 30 coin toss(es) is 0.7\n",
      "the probability of getting tail after 30 coin toss(es) is 0.3\n",
      "the probability of getting head after 50 coin toss(es) is 0.7\n",
      "the probability of getting tail after 50 coin toss(es) is 0.3\n",
      "Repeating task 03.4, round = 4 , a = 0.7 , b = 0.3 \n",
      "the probability of getting head after 10 coin toss(es) is 0.7\n",
      "the probability of getting tail after 10 coin toss(es) is 0.3\n",
      "the probability of getting head after 20 coin toss(es) is 0.7\n",
      "the probability of getting tail after 20 coin toss(es) is 0.3\n",
      "the probability of getting head after 50 coin toss(es) is 0.7\n",
      "the probability of getting tail after 50 coin toss(es) is 0.3\n",
      "Repeating task 03.3, round = 5 , a = 0.6 , b = 0.4 \n",
      "the probability of getting head after 20 coin toss(es) is 0.6\n",
      "the probability of getting tail after 20 coin toss(es) is 0.4\n",
      "the probability of getting head after 30 coin toss(es) is 0.6\n",
      "the probability of getting tail after 30 coin toss(es) is 0.4\n",
      "the probability of getting head after 50 coin toss(es) is 0.6\n",
      "the probability of getting tail after 50 coin toss(es) is 0.4\n",
      "Repeating task 03.4, round = 5 , a = 0.6 , b = 0.4 \n",
      "the probability of getting head after 10 coin toss(es) is 0.6\n",
      "the probability of getting tail after 10 coin toss(es) is 0.4\n",
      "the probability of getting head after 20 coin toss(es) is 0.6\n",
      "the probability of getting tail after 20 coin toss(es) is 0.4\n",
      "the probability of getting head after 50 coin toss(es) is 0.6\n",
      "the probability of getting tail after 50 coin toss(es) is 0.4\n",
      "Repeating task 03.3, round = 6 , a = 0.5 , b = 0.5 \n",
      "the probability of getting head after 20 coin toss(es) is 0.5\n",
      "the probability of getting tail after 20 coin toss(es) is 0.5\n",
      "the probability of getting head after 30 coin toss(es) is 0.5\n",
      "the probability of getting tail after 30 coin toss(es) is 0.5\n",
      "the probability of getting head after 50 coin toss(es) is 0.5\n",
      "the probability of getting tail after 50 coin toss(es) is 0.5\n",
      "Repeating task 03.4, round = 6 , a = 0.5 , b = 0.5 \n",
      "the probability of getting head after 10 coin toss(es) is 0.5\n",
      "the probability of getting tail after 10 coin toss(es) is 0.5\n",
      "the probability of getting head after 20 coin toss(es) is 0.5\n",
      "the probability of getting tail after 20 coin toss(es) is 0.5\n",
      "the probability of getting head after 50 coin toss(es) is 0.5\n",
      "the probability of getting tail after 50 coin toss(es) is 0.5\n",
      "Repeating task 03.3, round = 7 , a = 0.1 , b = 0.2 \n",
      "the probability of getting head after 20 coin toss(es) is 0.1\n",
      "the probability of getting tail after 20 coin toss(es) is 0.9\n",
      "the probability of getting head after 30 coin toss(es) is 0.1\n",
      "the probability of getting tail after 30 coin toss(es) is 0.9\n",
      "the probability of getting head after 50 coin toss(es) is 0.1\n",
      "the probability of getting tail after 50 coin toss(es) is 0.9\n",
      "Repeating task 03.4, round = 7 , a = 0.1 , b = 0.2 \n",
      "the probability of getting head after 10 coin toss(es) is 0.1\n",
      "the probability of getting tail after 10 coin toss(es) is 0.9\n",
      "the probability of getting head after 20 coin toss(es) is 0.1\n",
      "the probability of getting tail after 20 coin toss(es) is 0.9\n",
      "the probability of getting head after 50 coin toss(es) is 0.1\n",
      "the probability of getting tail after 50 coin toss(es) is 0.9\n",
      "Repeating task 03.3, round = 8 , a = 0.2 , b = 0.4 \n",
      "the probability of getting head after 20 coin toss(es) is 0.2\n",
      "the probability of getting tail after 20 coin toss(es) is 0.8\n",
      "the probability of getting head after 30 coin toss(es) is 0.2\n",
      "the probability of getting tail after 30 coin toss(es) is 0.8\n",
      "the probability of getting head after 50 coin toss(es) is 0.2\n",
      "the probability of getting tail after 50 coin toss(es) is 0.8\n",
      "Repeating task 03.4, round = 8 , a = 0.2 , b = 0.4 \n",
      "the probability of getting head after 10 coin toss(es) is 0.2\n",
      "the probability of getting tail after 10 coin toss(es) is 0.8\n",
      "the probability of getting head after 20 coin toss(es) is 0.2\n",
      "the probability of getting tail after 20 coin toss(es) is 0.8\n",
      "the probability of getting head after 50 coin toss(es) is 0.2\n",
      "the probability of getting tail after 50 coin toss(es) is 0.8\n",
      "Repeating task 03.3, round = 9 , a = 0.3 , b = 0.6 \n",
      "the probability of getting head after 20 coin toss(es) is 0.3\n",
      "the probability of getting tail after 20 coin toss(es) is 0.7\n",
      "the probability of getting head after 30 coin toss(es) is 0.3\n",
      "the probability of getting tail after 30 coin toss(es) is 0.7\n",
      "the probability of getting head after 50 coin toss(es) is 0.3\n",
      "the probability of getting tail after 50 coin toss(es) is 0.7\n",
      "Repeating task 03.4, round = 9 , a = 0.3 , b = 0.6 \n",
      "the probability of getting head after 10 coin toss(es) is 0.3\n",
      "the probability of getting tail after 10 coin toss(es) is 0.7\n",
      "the probability of getting head after 20 coin toss(es) is 0.3\n",
      "the probability of getting tail after 20 coin toss(es) is 0.7\n",
      "the probability of getting head after 50 coin toss(es) is 0.3\n",
      "the probability of getting tail after 50 coin toss(es) is 0.7\n",
      "Repeating task 03.3, round = 10 , a = 0.4 , b = 0.8 \n",
      "the probability of getting head after 20 coin toss(es) is 0.4\n",
      "the probability of getting tail after 20 coin toss(es) is 0.6\n",
      "the probability of getting head after 30 coin toss(es) is 0.4\n",
      "the probability of getting tail after 30 coin toss(es) is 0.6\n",
      "the probability of getting head after 50 coin toss(es) is 0.4\n",
      "the probability of getting tail after 50 coin toss(es) is 0.6\n",
      "Repeating task 03.4, round = 10 , a = 0.4 , b = 0.8 \n",
      "the probability of getting head after 10 coin toss(es) is 0.4\n",
      "the probability of getting tail after 10 coin toss(es) is 0.6\n",
      "the probability of getting head after 20 coin toss(es) is 0.4\n",
      "the probability of getting tail after 20 coin toss(es) is 0.6\n",
      "the probability of getting head after 50 coin toss(es) is 0.4\n",
      "the probability of getting tail after 50 coin toss(es) is 0.6\n"
     ]
    }
   ],
   "source": [
    "a = [1, 0.9, 0.8, 0.7, 0.6, 0.5, 0.1, 0.2, 0.3, 0.4]\n",
    "b = [0, 0.1, 0.2, 0.3, 0.4, 0.5, 0.2, 0.4, 0.6, 0.8]\n",
    "\n",
    "for k in range(len(a)):\n",
    "    print(\"Repeating task 03.3, round =\",k+1,\", a =\",a[k],\", b =\",b[k],\"\")\n",
    "\n",
    "    prob_H = [1, 1, 1]\n",
    "    prob_T = [0, 0, 0]\n",
    "\n",
    "    no_of_tosses = [20, 30, 50]\n",
    "\n",
    "    for i in range(len(no_of_tosses)):\n",
    "        for j in range(no_of_tosses[i]):\n",
    "            GameCoins(a[k], b[k], toss_no=j+1, no_of_tosses=no_of_tosses[i])\n",
    "        #print(\"the probability of getting head after \",no_of_tosses[i],\" coin tosses is\",round(prob_H[i],6))\n",
    "        #print(\"the probability of getting tail after \",no_of_tosses[i],\" coin tosses is\",round(prob_T[i],6))\n",
    "\n",
    "    print(\"Repeating task 03.4, round =\",k+1,\", a =\",a[k],\", b =\",b[k],\"\")\n",
    "\n",
    "    prob_H = [1/2, 0, 1/4]\n",
    "    prob_T = [1/2, 1, 3/4]\n",
    "\n",
    "    no_of_tosses = [10, 20, 50]\n",
    "\n",
    "    for i in range(len(no_of_tosses)):\n",
    "        for j in range(no_of_tosses[i]):\n",
    "            GameCoins(a[k], b[k], toss_no=j+1, no_of_tosses=no_of_tosses[i])\n",
    "        #print(\"the probability of getting head after \",no_of_tosses[i],\" coin tosses is\",round(prob_H[i],6))\n",
    "        #print(\"the probability of getting tail after \",no_of_tosses[i],\" coin tosses is\",round(prob_T[i],6))"
   ]
  },
  {
   "cell_type": "markdown",
   "metadata": {},
   "source": [
    "The system converges only for the values of a and b equal 0.5"
   ]
  },
  {
   "cell_type": "markdown",
   "metadata": {},
   "source": [
    "<h3>Task 03.8</h3>\n",
    "\n",
    "We can rewrite arbitrary GameCoins as \n",
    "\n",
    "$  \\begin{array}{c|cc} & \\mathbf{Head} & \\mathbf{Tail} \\\\ \\hline \\mathbf{Head} & 1-y & x\\\\  \\mathbf{Tail} & y & 1-x  \\end{array} = \\begin{array}{c|cc} & \\mathbf{0} & \\mathbf{1} \\\\ \\hline \\mathbf{0} & 1-y & x \\\\  \\mathbf{1} & y & 1-x  \\end{array}.\n",
    "$ \n",
    "\n",
    "We assume that it is neither Identity nor NOT operator. Then, independent of the initial state, the system always converges to \n",
    "\n",
    "$ Pr[\\mbox{\"head\"}] = \\dfrac{x}{x+y} $ and $ Pr[\\mbox{\"tail\"}]=\\dfrac{y}{x+y} $ \n",
    "\n",
    "as the probabilities of getting head and tail, respectively.\n",
    "\n",
    "Observe this fact by checking the results of Task 7."
   ]
  },
  {
   "cell_type": "code",
   "execution_count": 8,
   "metadata": {},
   "outputs": [
    {
     "name": "stdout",
     "output_type": "stream",
     "text": [
      "Round = 10 , a = 1 , b = 0 , Pr[head] = 0.0 , Pr[tail] = 1.0\n",
      "Round = 10 , a = 0.9 , b = 0.1 , Pr[head] = 0.1 , Pr[tail] = 0.9\n",
      "Round = 10 , a = 0.8 , b = 0.2 , Pr[head] = 0.2 , Pr[tail] = 0.8\n",
      "Round = 10 , a = 0.7 , b = 0.3 , Pr[head] = 0.3 , Pr[tail] = 0.7\n",
      "Round = 10 , a = 0.6 , b = 0.4 , Pr[head] = 0.4 , Pr[tail] = 0.6\n",
      "Round = 10 , a = 0.5 , b = 0.5 , Pr[head] = 0.5 , Pr[tail] = 0.5\n",
      "Round = 10 , a = 0.1 , b = 0.2 , Pr[head] = 0.2 , Pr[tail] = 0.8\n",
      "Round = 10 , a = 0.2 , b = 0.4 , Pr[head] = 0.4 , Pr[tail] = 0.6\n",
      "Round = 10 , a = 0.3 , b = 0.6 , Pr[head] = 0.6 , Pr[tail] = 0.4\n",
      "Round = 10 , a = 0.4 , b = 0.8 , Pr[head] = 0.8 , Pr[tail] = 0.19999999999999996\n"
     ]
    }
   ],
   "source": [
    "a = [1, 0.9, 0.8, 0.7, 0.6, 0.5, 0.1, 0.2, 0.3, 0.4]\n",
    "b = [0, 0.1, 0.2, 0.3, 0.4, 0.5, 0.2, 0.4, 0.6, 0.8]\n",
    "\n",
    "x = b\n",
    "y = [0, 0, 0, 0, 0, 0, 0, 0, 0, 0] \n",
    "\n",
    "for i in range(len(a)):\n",
    "    y[i]=1-b[i]\n",
    "    print(\"Round =\",k+1,\", a =\",a[i],\", b =\",b[i],\", Pr[head] =\",x[i]/(x[i]+y[i]),\", Pr[tail] =\",y[i]/(x[i]+y[i]))"
   ]
  },
  {
   "cell_type": "markdown",
   "metadata": {},
   "source": [
    "It is seen that only the system with values of a = b = 0.5 converges."
   ]
  }
 ],
 "metadata": {
  "kernelspec": {
   "display_name": "Python 3",
   "language": "python",
   "name": "python3"
  },
  "language_info": {
   "codemirror_mode": {
    "name": "ipython",
    "version": 3
   },
   "file_extension": ".py",
   "mimetype": "text/x-python",
   "name": "python",
   "nbconvert_exporter": "python",
   "pygments_lexer": "ipython3",
   "version": "3.8.3"
  }
 },
 "nbformat": 4,
 "nbformat_minor": 2
}
